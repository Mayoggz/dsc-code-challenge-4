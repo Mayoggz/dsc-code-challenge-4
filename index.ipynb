{
 "cells": [
  {
   "cell_type": "markdown",
   "metadata": {
    "deletable": false,
    "editable": false,
    "nbgrader": {
     "cell_type": "markdown",
     "checksum": "30a5ef033f778164514df7d6f0cbed45",
     "grade": false,
     "grade_id": "cell-93e35ef07b6a9f79",
     "locked": true,
     "schema_version": 3,
     "solution": false,
     "task": false
    }
   },
   "source": [
    "# Phase 4 Code Challenge\n",
    "\n",
    "This code challenge is designed to test your understanding of the Phase 4 material. It covers:\n",
    "\n",
    "* Principal Component Analysis\n",
    "* Clustering\n",
    "* Time Series\n",
    "* Natural Language Processing\n",
    "\n",
    "_Read the instructions carefully_. You will be asked both to write code and to answer short answer questions.\n",
    "\n",
    "## Code Tests\n",
    "\n",
    "We have provided some code tests for you to run to check that your work meets the item specifications. Passing these tests does not necessarily mean that you have gotten the item correct - there are additional hidden tests. However, if any of the tests do not pass, this tells you that your code is incorrect and needs changes to meet the specification. To determine what the issue is, read the comments in the code test cells, the error message you receive, and the item instructions.\n",
    "\n",
    "## Short Answer Questions \n",
    "\n",
    "For the short answer questions...\n",
    "\n",
    "* _Use your own words_. It is OK to refer to outside resources when crafting your response, but _do not copy text from another source_.\n",
    "\n",
    "* _Communicate clearly_. We are not grading your writing skills, but you can only receive full credit if your teacher is able to fully understand your response. \n",
    "\n",
    "* _Be concise_. You should be able to answer most short answer questions in a sentence or two. Writing unnecessarily long answers increases the risk of you being unclear or saying something incorrect."
   ]
  },
  {
   "cell_type": "code",
   "execution_count": 30,
   "metadata": {
    "deletable": false,
    "editable": false,
    "nbgrader": {
     "cell_type": "code",
     "checksum": "1d871c187c2643e8272c43319ab1ea89",
     "grade": false,
     "grade_id": "cell-8324b5fef3a46de1",
     "locked": true,
     "schema_version": 3,
     "solution": false,
     "task": false
    }
   },
   "outputs": [],
   "source": [
    "# Run this cell without changes to import the necessary libraries\n",
    "\n",
    "from numbers import Number\n",
    "import matplotlib, sklearn, scipy, pickle\n",
    "import numpy as np\n",
    "import pandas as pd\n",
    "\n",
    "%matplotlib inline"
   ]
  },
  {
   "cell_type": "markdown",
   "metadata": {
    "deletable": false,
    "editable": false,
    "nbgrader": {
     "cell_type": "markdown",
     "checksum": "1abd19fc2972f3b9976a842da4d5fe11",
     "grade": false,
     "grade_id": "cell-0312e6ab3947bffa",
     "locked": true,
     "schema_version": 3,
     "solution": false,
     "task": false
    }
   },
   "source": [
    "---\n",
    "\n",
    "## Part 1: Principal Component Analysis [Suggested Time: 15 minutes]\n",
    "\n",
    "---\n",
    "\n",
    "In this part, you will use Principal Component Analysis on the wine dataset. "
   ]
  },
  {
   "cell_type": "code",
   "execution_count": 31,
   "metadata": {
    "deletable": false,
    "editable": false,
    "nbgrader": {
     "cell_type": "code",
     "checksum": "e4210f4b302c288113d2dd306d539812",
     "grade": false,
     "grade_id": "cell-1c655cf7834874d7",
     "locked": true,
     "schema_version": 3,
     "solution": false,
     "task": false
    }
   },
   "outputs": [
    {
     "data": {
      "text/html": [
       "<div>\n",
       "<style scoped>\n",
       "    .dataframe tbody tr th:only-of-type {\n",
       "        vertical-align: middle;\n",
       "    }\n",
       "\n",
       "    .dataframe tbody tr th {\n",
       "        vertical-align: top;\n",
       "    }\n",
       "\n",
       "    .dataframe thead th {\n",
       "        text-align: right;\n",
       "    }\n",
       "</style>\n",
       "<table border=\"1\" class=\"dataframe\">\n",
       "  <thead>\n",
       "    <tr style=\"text-align: right;\">\n",
       "      <th></th>\n",
       "      <th>alcohol</th>\n",
       "      <th>malic_acid</th>\n",
       "      <th>ash</th>\n",
       "      <th>alcalinity_of_ash</th>\n",
       "      <th>magnesium</th>\n",
       "      <th>total_phenols</th>\n",
       "      <th>flavanoids</th>\n",
       "      <th>nonflavanoid_phenols</th>\n",
       "      <th>proanthocyanins</th>\n",
       "      <th>color_intensity</th>\n",
       "      <th>hue</th>\n",
       "      <th>od280/od315_of_diluted_wines</th>\n",
       "      <th>proline</th>\n",
       "    </tr>\n",
       "  </thead>\n",
       "  <tbody>\n",
       "    <tr>\n",
       "      <th>0</th>\n",
       "      <td>-1.104538</td>\n",
       "      <td>-0.530902</td>\n",
       "      <td>-0.136257</td>\n",
       "      <td>-0.374157</td>\n",
       "      <td>-1.294014</td>\n",
       "      <td>-1.017096</td>\n",
       "      <td>-0.444344</td>\n",
       "      <td>1.266120</td>\n",
       "      <td>0.159532</td>\n",
       "      <td>-1.074295</td>\n",
       "      <td>0.516454</td>\n",
       "      <td>-0.418240</td>\n",
       "      <td>-0.851947</td>\n",
       "    </tr>\n",
       "    <tr>\n",
       "      <th>1</th>\n",
       "      <td>-0.608849</td>\n",
       "      <td>-0.792240</td>\n",
       "      <td>-0.573221</td>\n",
       "      <td>-0.217310</td>\n",
       "      <td>4.793609</td>\n",
       "      <td>0.421716</td>\n",
       "      <td>0.331268</td>\n",
       "      <td>-0.403193</td>\n",
       "      <td>2.946675</td>\n",
       "      <td>-0.990146</td>\n",
       "      <td>0.856550</td>\n",
       "      <td>0.076074</td>\n",
       "      <td>0.739762</td>\n",
       "    </tr>\n",
       "    <tr>\n",
       "      <th>2</th>\n",
       "      <td>1.170548</td>\n",
       "      <td>-0.471890</td>\n",
       "      <td>1.611596</td>\n",
       "      <td>-0.091832</td>\n",
       "      <td>0.660038</td>\n",
       "      <td>1.141122</td>\n",
       "      <td>1.036369</td>\n",
       "      <td>0.014135</td>\n",
       "      <td>0.363469</td>\n",
       "      <td>-0.190727</td>\n",
       "      <td>1.239159</td>\n",
       "      <td>1.133355</td>\n",
       "      <td>0.663137</td>\n",
       "    </tr>\n",
       "    <tr>\n",
       "      <th>3</th>\n",
       "      <td>-1.371448</td>\n",
       "      <td>1.559801</td>\n",
       "      <td>0.118638</td>\n",
       "      <td>0.410080</td>\n",
       "      <td>-1.218858</td>\n",
       "      <td>0.997241</td>\n",
       "      <td>1.096806</td>\n",
       "      <td>-1.321315</td>\n",
       "      <td>2.317869</td>\n",
       "      <td>-0.905997</td>\n",
       "      <td>-0.886446</td>\n",
       "      <td>1.462898</td>\n",
       "      <td>-1.200242</td>\n",
       "    </tr>\n",
       "    <tr>\n",
       "      <th>4</th>\n",
       "      <td>-0.443619</td>\n",
       "      <td>0.000204</td>\n",
       "      <td>-0.573221</td>\n",
       "      <td>-0.374157</td>\n",
       "      <td>-0.316988</td>\n",
       "      <td>-0.985122</td>\n",
       "      <td>-1.290465</td>\n",
       "      <td>2.184241</td>\n",
       "      <td>-1.030103</td>\n",
       "      <td>0.903214</td>\n",
       "      <td>-0.971470</td>\n",
       "      <td>-1.365674</td>\n",
       "      <td>-0.103112</td>\n",
       "    </tr>\n",
       "  </tbody>\n",
       "</table>\n",
       "</div>"
      ],
      "text/plain": [
       "    alcohol  malic_acid       ash  alcalinity_of_ash  magnesium  \\\n",
       "0 -1.104538   -0.530902 -0.136257          -0.374157  -1.294014   \n",
       "1 -0.608849   -0.792240 -0.573221          -0.217310   4.793609   \n",
       "2  1.170548   -0.471890  1.611596          -0.091832   0.660038   \n",
       "3 -1.371448    1.559801  0.118638           0.410080  -1.218858   \n",
       "4 -0.443619    0.000204 -0.573221          -0.374157  -0.316988   \n",
       "\n",
       "   total_phenols  flavanoids  nonflavanoid_phenols  proanthocyanins  \\\n",
       "0      -1.017096   -0.444344              1.266120         0.159532   \n",
       "1       0.421716    0.331268             -0.403193         2.946675   \n",
       "2       1.141122    1.036369              0.014135         0.363469   \n",
       "3       0.997241    1.096806             -1.321315         2.317869   \n",
       "4      -0.985122   -1.290465              2.184241        -1.030103   \n",
       "\n",
       "   color_intensity       hue  od280/od315_of_diluted_wines   proline  \n",
       "0        -1.074295  0.516454                     -0.418240 -0.851947  \n",
       "1        -0.990146  0.856550                      0.076074  0.739762  \n",
       "2        -0.190727  1.239159                      1.133355  0.663137  \n",
       "3        -0.905997 -0.886446                      1.462898 -1.200242  \n",
       "4         0.903214 -0.971470                     -1.365674 -0.103112  "
      ]
     },
     "execution_count": 31,
     "metadata": {},
     "output_type": "execute_result"
    }
   ],
   "source": [
    "# Run this cell without changes\n",
    "\n",
    "# Relevant imports\n",
    "from sklearn.datasets import load_wine\n",
    "from sklearn.model_selection import train_test_split\n",
    "from sklearn.preprocessing import StandardScaler\n",
    "from sklearn.decomposition import PCA\n",
    "\n",
    "# Load data\n",
    "wine = load_wine()\n",
    "X, y = load_wine(return_X_y=True)\n",
    "X = pd.DataFrame(X, columns=wine.feature_names)\n",
    "y = pd.Series(y)\n",
    "y.name = 'class'\n",
    "\n",
    "# Train-test split\n",
    "X_train, X_test, y_train, y_test = train_test_split(X, y, test_size=0.3, random_state=1)\n",
    "\n",
    "# Scaling\n",
    "scaler_1 = StandardScaler()\n",
    "X_train_scaled = pd.DataFrame(scaler_1.fit_transform(X_train), columns=X_train.columns)\n",
    "\n",
    "# Inspect the first five rows of the scaled dataset\n",
    "X_train_scaled.head()"
   ]
  },
  {
   "cell_type": "markdown",
   "metadata": {
    "deletable": false,
    "editable": false,
    "nbgrader": {
     "cell_type": "markdown",
     "checksum": "434fea3a59d697093c1bc3bfaff15bb7",
     "grade": false,
     "grade_id": "cell-adac39f3ffb2589c",
     "locked": true,
     "schema_version": 3,
     "solution": false,
     "task": false
    }
   },
   "source": [
    "### 1.1) Create a PCA object `wine_pca` and fit it using `X_train_scaled`.\n",
    "\n",
    "Use parameter defaults with `n_components=0.9` and `random_state=1` for your classifier. You must use the Scikit-learn PCA (docs [here](https://scikit-learn.org/stable/modules/generated/sklearn.decomposition.PCA.html))."
   ]
  },
  {
   "cell_type": "markdown",
   "metadata": {
    "deletable": false,
    "editable": false,
    "nbgrader": {
     "cell_type": "markdown",
     "checksum": "0c1cf8aef361befb32af47d7b647d63f",
     "grade": false,
     "grade_id": "cell-fc96080dfc176b32",
     "locked": true,
     "schema_version": 3,
     "solution": false,
     "task": false
    }
   },
   "source": [
    "**Starter Code**\n",
    "\n",
    "    wine_pca = PCA("
   ]
  },
  {
   "cell_type": "code",
   "execution_count": 32,
   "metadata": {
    "deletable": false,
    "nbgrader": {
     "cell_type": "code",
     "checksum": "b1c5ce31eb8eacb2b86f723d72f4ca19",
     "grade": false,
     "grade_id": "cell-357f7995fea3c72c",
     "locked": false,
     "schema_version": 3,
     "solution": true,
     "task": false
    }
   },
   "outputs": [
    {
     "data": {
      "text/plain": [
       "PCA(n_components=0.9, random_state=1)"
      ]
     },
     "execution_count": 32,
     "metadata": {},
     "output_type": "execute_result"
    }
   ],
   "source": [
    "# YOUR CODE HERE\n",
    "wine_pca = PCA(n_components=0.9, random_state=1)\n",
    "\n",
    "# Fit the PCA object to the scaled training data\n",
    "wine_pca.fit(X_train_scaled)\n",
    "\n",
    "# raise NotImplementedError()"
   ]
  },
  {
   "cell_type": "code",
   "execution_count": 33,
   "metadata": {
    "deletable": false,
    "editable": false,
    "nbgrader": {
     "cell_type": "code",
     "checksum": "9d8ecd9366b4e2e5e0852b75085cd3d3",
     "grade": true,
     "grade_id": "cell-3a6fc1de02dfc5f6",
     "locked": true,
     "points": 1,
     "schema_version": 3,
     "solution": false,
     "task": false
    }
   },
   "outputs": [],
   "source": [
    "# This test confirms that you have created a PCA object named wine_pca\n",
    "\n",
    "assert type(wine_pca) == PCA\n",
    "\n",
    "# This test confirms that you have set random_state to 1\n",
    "\n",
    "assert wine_pca.get_params()['random_state'] == 1\n",
    "\n",
    "# This test confirms that wine_pca has been fit\n",
    "\n",
    "sklearn.utils.validation.check_is_fitted(wine_pca)\n"
   ]
  },
  {
   "cell_type": "markdown",
   "metadata": {
    "deletable": false,
    "editable": false,
    "nbgrader": {
     "cell_type": "markdown",
     "checksum": "572595bd0b84a478c35bdd69eb67eb7a",
     "grade": false,
     "grade_id": "cell-afa7eb5b2df5dc78",
     "locked": true,
     "schema_version": 3,
     "solution": false,
     "task": false
    }
   },
   "source": [
    "### 1.2) Create a numeric variable `wine_pca_ncomps` containing the number of components in `wine_pca`\n",
    "\n",
    "_Hint: Look at the list of attributes of trained `PCA` objects in the [scikit-learn documentation](https://scikit-learn.org/stable/modules/generated/sklearn.decomposition.PCA.html)_"
   ]
  },
  {
   "cell_type": "markdown",
   "metadata": {
    "deletable": false,
    "editable": false,
    "nbgrader": {
     "cell_type": "markdown",
     "checksum": "7c462ed1df26ce3222ee5060d4ab542c",
     "grade": false,
     "grade_id": "cell-0dc95483da95ec65",
     "locked": true,
     "schema_version": 3,
     "solution": false,
     "task": false
    }
   },
   "source": [
    "**Starter Code**\n",
    "\n",
    "    wine_pca_ncomps = "
   ]
  },
  {
   "cell_type": "code",
   "execution_count": 34,
   "metadata": {
    "deletable": false,
    "nbgrader": {
     "cell_type": "code",
     "checksum": "db6d3b1e9cea4a978e3bebdf0ed9931a",
     "grade": false,
     "grade_id": "cell-872e062d854ff41a",
     "locked": false,
     "schema_version": 3,
     "solution": true,
     "task": false
    }
   },
   "outputs": [
    {
     "name": "stdout",
     "output_type": "stream",
     "text": [
      "Number of Principal Components: 8\n"
     ]
    }
   ],
   "source": [
    "# YOUR CODE HERE\n",
    "wine_pca_ncomps = wine_pca.n_components_\n",
    "\n",
    "# Print the number of components\n",
    "print(\"Number of Principal Components:\", wine_pca_ncomps)\n",
    "\n",
    "#raise NotImplementedError()"
   ]
  },
  {
   "cell_type": "code",
   "execution_count": 35,
   "metadata": {
    "deletable": false,
    "editable": false,
    "nbgrader": {
     "cell_type": "code",
     "checksum": "47f2af02df4b682e6d16247bbe9d4ff5",
     "grade": true,
     "grade_id": "cell-0b91ab8c6bacd9c5",
     "locked": true,
     "points": 1,
     "schema_version": 3,
     "solution": false,
     "task": false
    }
   },
   "outputs": [],
   "source": [
    "# This test confirms that you have created a numeric variable named wine_pca_ncomps\n",
    "\n",
    "assert isinstance(wine_pca_ncomps, Number)\n"
   ]
  },
  {
   "cell_type": "markdown",
   "metadata": {
    "deletable": false,
    "editable": false,
    "nbgrader": {
     "cell_type": "markdown",
     "checksum": "2a59bdcb456a27cd94f62d9c3abd2c77",
     "grade": false,
     "grade_id": "cell-9db04f9af71bb32f",
     "locked": true,
     "schema_version": 3,
     "solution": false,
     "task": false
    }
   },
   "source": [
    "### 1.3) Short Answer: Is PCA more useful or less useful when you have high multicollinearity among your features? Explain why."
   ]
  },
  {
   "cell_type": "markdown",
   "metadata": {
    "deletable": false,
    "nbgrader": {
     "cell_type": "markdown",
     "checksum": "82ef226a63b77072a8382509efb7bd9e",
     "grade": true,
     "grade_id": "cell-1918c6d237a579b8",
     "locked": false,
     "points": 1,
     "schema_version": 3,
     "solution": true,
     "task": false
    }
   },
   "source": [
    "YOUR ANSWER HERE\n",
    "\n",
    "PCA is highly beneficial when dealing with high multicollinearity. It transforms correlated features into uncorrelated principal components, reducing redundancy and improving model performance."
   ]
  },
  {
   "cell_type": "markdown",
   "metadata": {
    "deletable": false,
    "editable": false,
    "nbgrader": {
     "cell_type": "markdown",
     "checksum": "15caa5626716980ebf6f6bbbccc00b1e",
     "grade": false,
     "grade_id": "cell-2be033309999869a",
     "locked": true,
     "schema_version": 3,
     "solution": false,
     "task": false
    }
   },
   "source": [
    "--- \n",
    "\n",
    "## Part 2: Clustering [Suggested Time: 20 minutes]\n",
    "\n",
    "---\n",
    "\n",
    "In this part, you will answer general questions about clustering."
   ]
  },
  {
   "cell_type": "code",
   "execution_count": 36,
   "metadata": {
    "deletable": false,
    "editable": false,
    "nbgrader": {
     "cell_type": "code",
     "checksum": "2a8fae50bc47ccf43b01e427e7c9ec88",
     "grade": false,
     "grade_id": "cell-7fb56c6a144a1ff1",
     "locked": true,
     "schema_version": 3,
     "solution": false,
     "task": false
    }
   },
   "outputs": [],
   "source": [
    "# Run this cell without changes\n",
    "\n",
    "from sklearn.cluster import KMeans"
   ]
  },
  {
   "cell_type": "markdown",
   "metadata": {
    "deletable": false,
    "editable": false,
    "nbgrader": {
     "cell_type": "markdown",
     "checksum": "a40303a6f05fc47fa75644576126d199",
     "grade": false,
     "grade_id": "cell-f5977bb7be24f780",
     "locked": true,
     "schema_version": 3,
     "solution": false,
     "task": false
    }
   },
   "source": [
    "### 2.1) Short Answer: Describe the steps of the k-means clustering algorithm.\n",
    "\n",
    "Hint: Refer to the animation below, which visualizes the process.\n",
    "\n",
    "<img src='https://raw.githubusercontent.com/learn-co-curriculum/dsc-cc-images/main/phase_4/centroid.gif'>"
   ]
  },
  {
   "cell_type": "markdown",
   "metadata": {
    "deletable": false,
    "nbgrader": {
     "cell_type": "markdown",
     "checksum": "db074b03b2dcb776f8a606081aece355",
     "grade": true,
     "grade_id": "cell-b0bee5adde628138",
     "locked": false,
     "points": 2,
     "schema_version": 3,
     "solution": true,
     "task": false
    }
   },
   "source": [
    "YOUR ANSWER HERE\n",
    "It involves the following steps\n",
    "1. Initialization: Randomly select k initial centroids from the data points.\n",
    "2. Assignment: Assign each data point to the nearest centroid, forming k clusters.\n",
    "3. Update: Compute the new centroid of each cluster as the mean of the data points assigned to that cluster.\n",
    "4. Iteration: Repeat the assignment and update steps until the centroids no longer change significantly or a predefined number of iterations is reached."
   ]
  },
  {
   "cell_type": "markdown",
   "metadata": {
    "deletable": false,
    "editable": false,
    "nbgrader": {
     "cell_type": "markdown",
     "checksum": "8ffe29acff3095027804e81fdc19cdc4",
     "grade": false,
     "grade_id": "cell-0d929a59f2b64837",
     "locked": true,
     "schema_version": 3,
     "solution": false,
     "task": false
    }
   },
   "source": [
    "### 2.2) Write a function `get_labels()` that meets the requirements below to find `k` clusters in a dataset of features `X`, and return the cluster assignment labels for each row of `X`. \n",
    "\n",
    "Review the doc-string in the function below to understand the requirements of this function.\n",
    "\n",
    "_Hint: Within the function, you'll need to:_\n",
    "* instantiate a [scikit-learn KMeans object](https://scikit-learn.org/stable/modules/generated/sklearn.cluster.KMeans.html), using `random_state = 1` for reproducibility\n",
    "* fit the object to the data\n",
    "* return the cluster assignment labels for each row of `X` "
   ]
  },
  {
   "cell_type": "markdown",
   "metadata": {
    "deletable": false,
    "editable": false,
    "nbgrader": {
     "cell_type": "markdown",
     "checksum": "cf173c85829dce601fd0a335b27b92bd",
     "grade": false,
     "grade_id": "cell-7d131ed1c76ccc52",
     "locked": true,
     "schema_version": 3,
     "solution": false,
     "task": false
    }
   },
   "source": [
    "**Starter Code** - replace None with appropriate code\n",
    "\n",
    "    def get_labels(k, X):\n",
    "        \"\"\" \n",
    "        Finds the labels from a k-means clustering model \n",
    "\n",
    "        Parameters: \n",
    "        -----------\n",
    "        k: float object\n",
    "            number of clusters to use in the k-means clustering model\n",
    "        X: Pandas DataFrame or array-like object\n",
    "            Data to cluster\n",
    "\n",
    "        Returns: \n",
    "        --------\n",
    "        labels: array-like object\n",
    "            Labels attribute from the k-means model\n",
    "\n",
    "        \"\"\"\n",
    "\n",
    "        # Instantiate a k-means clustering model with random_state=1 and n_clusters=k\n",
    "        kmeans = None\n",
    "\n",
    "        # Fit the model to the data\n",
    "        None\n",
    "\n",
    "        # Return the predicted labels for each row in the data produced by the model\n",
    "        return None"
   ]
  },
  {
   "cell_type": "code",
   "execution_count": 37,
   "metadata": {
    "deletable": false,
    "nbgrader": {
     "cell_type": "code",
     "checksum": "ad8a5530fc231ed833577605ab0cd314",
     "grade": false,
     "grade_id": "cell-7beb47f19517b6fb",
     "locked": false,
     "schema_version": 3,
     "solution": true,
     "task": false
    }
   },
   "outputs": [],
   "source": [
    "# YOUR CODE HERE\n",
    "from sklearn.cluster import KMeans\n",
    "\n",
    "def get_labels(k, X):\n",
    "    \"\"\" \n",
    "    Finds the labels from a k-means clustering model \n",
    "\n",
    "    Parameters: \n",
    "    -----------\n",
    "    k: int\n",
    "        Number of clusters to use in the k-means clustering model\n",
    "    X: Pandas DataFrame or array-like object\n",
    "        Data to cluster\n",
    "\n",
    "    Returns: \n",
    "    --------\n",
    "    labels: array-like object\n",
    "        Labels attribute from the k-means model\n",
    "\n",
    "    \"\"\"\n",
    "\n",
    "    # Instantiate a k-means clustering model with random_state=1 and n_clusters=k\n",
    "    kmeans = KMeans(n_clusters=k, random_state=1)\n",
    "\n",
    "    # Fit the model to the data\n",
    "    kmeans.fit(X)\n",
    "\n",
    "    # Return the predicted labels for each row in the data produced by the model\n",
    "    return kmeans.labels_\n",
    "\n",
    "# raise NotImplementedError()"
   ]
  },
  {
   "cell_type": "code",
   "execution_count": 38,
   "metadata": {
    "deletable": false,
    "editable": false,
    "nbgrader": {
     "cell_type": "code",
     "checksum": "8cbf0a3962cd797feb93c74deaefaee4",
     "grade": true,
     "grade_id": "cell-2755f75b9ca02ff5",
     "locked": true,
     "points": 1,
     "schema_version": 3,
     "solution": false,
     "task": false
    }
   },
   "outputs": [
    {
     "data": {
      "text/plain": [
       "array([0, 0, 0])"
      ]
     },
     "execution_count": 38,
     "metadata": {},
     "output_type": "execute_result"
    }
   ],
   "source": [
    "# This test confirms that you have created a function named get_labels\n",
    "\n",
    "assert callable(get_labels) \n",
    "\n",
    "# This test confirms that get_labels can take the correct parameter types\n",
    "\n",
    "get_labels(1, np.array([[1, 2, 3], [2, 3, 4], [3, 4, 5]]))\n"
   ]
  },
  {
   "cell_type": "markdown",
   "metadata": {
    "deletable": false,
    "editable": false,
    "nbgrader": {
     "cell_type": "markdown",
     "checksum": "936f11c4bde0dac666c5cb228a5c227e",
     "grade": false,
     "grade_id": "cell-3e44a061e098167b",
     "locked": true,
     "schema_version": 3,
     "solution": false,
     "task": false
    }
   },
   "source": [
    "The next cell uses your `get_labels` function to cluster the wine data, looping through all $k$ values from 2 to 9. It saves the silhouette scores for each $k$ value in a list `silhouette_scores`."
   ]
  },
  {
   "cell_type": "code",
   "execution_count": 39,
   "metadata": {
    "deletable": false,
    "editable": false,
    "nbgrader": {
     "cell_type": "code",
     "checksum": "42d6e3e13cff04457136af6eee813ea2",
     "grade": false,
     "grade_id": "cell-e668bf9ba032a378",
     "locked": true,
     "schema_version": 3,
     "solution": false,
     "task": false
    }
   },
   "outputs": [],
   "source": [
    "# Run this cell without changes\n",
    "\n",
    "from sklearn.metrics import silhouette_score\n",
    "\n",
    "# Preprocessing is needed. Scale the data\n",
    "scaler_2 = StandardScaler()\n",
    "X_scaled = scaler_2.fit_transform(X)\n",
    "\n",
    "# Create empty list for silhouette scores\n",
    "silhouette_scores = []\n",
    "\n",
    "# Range of k values to try\n",
    "k_values = range(2, 10)\n",
    "\n",
    "for k in k_values:\n",
    "    labels = get_labels(k, X_scaled)\n",
    "    score = silhouette_score(X_scaled, labels, metric='euclidean')\n",
    "    silhouette_scores.append(score)"
   ]
  },
  {
   "cell_type": "markdown",
   "metadata": {
    "deletable": false,
    "editable": false,
    "nbgrader": {
     "cell_type": "markdown",
     "checksum": "2a233fa54c37a1e15cb664c8fb3963b5",
     "grade": false,
     "grade_id": "cell-38e582c973d5e62e",
     "locked": true,
     "schema_version": 3,
     "solution": false,
     "task": false
    }
   },
   "source": [
    "Next, we plot the silhouette scores obtained for each different value of $k$, against $k$, the number of clusters we asked the algorithm to find. "
   ]
  },
  {
   "cell_type": "code",
   "execution_count": 40,
   "metadata": {
    "deletable": false,
    "editable": false,
    "nbgrader": {
     "cell_type": "code",
     "checksum": "72e54e79e363a173324ac30ed051bf11",
     "grade": false,
     "grade_id": "cell-89d3669094b3d4e0",
     "locked": true,
     "schema_version": 3,
     "solution": false,
     "task": false
    }
   },
   "outputs": [
    {
     "data": {
      "image/png": "[encoded data removed]",
      "text/plain": [
       "<Figure size 432x288 with 1 Axes>"
      ]
     },
     "metadata": {
      "needs_background": "light"
     },
     "output_type": "display_data"
    }
   ],
   "source": [
    "# Run this cell without changes\n",
    "\n",
    "import matplotlib.pyplot as plt\n",
    "%matplotlib inline\n",
    "\n",
    "plt.plot(k_values, silhouette_scores, marker='o')\n",
    "plt.title('Silhouette scores vs number of clusters')\n",
    "plt.xlabel('k (number of clusters)')\n",
    "plt.ylabel('silhouette score');"
   ]
  },
  {
   "cell_type": "markdown",
   "metadata": {
    "deletable": false,
    "editable": false,
    "nbgrader": {
     "cell_type": "markdown",
     "checksum": "97c743f96e9bdcd352d02cad5acc8d5b",
     "grade": false,
     "grade_id": "cell-74ff2d4b4db6f745",
     "locked": true,
     "schema_version": 3,
     "solution": false,
     "task": false
    }
   },
   "source": [
    "### 2.3) Create numeric variable `wine_nclust` containing the value of $k$ you would choose based on the above plot of silhouette scores. "
   ]
  },
  {
   "cell_type": "markdown",
   "metadata": {
    "deletable": false,
    "editable": false,
    "nbgrader": {
     "cell_type": "markdown",
     "checksum": "8774593608719d702835d34543e6dfa0",
     "grade": false,
     "grade_id": "cell-3d86a102cb0b9d05",
     "locked": true,
     "schema_version": 3,
     "solution": false,
     "task": false
    }
   },
   "source": [
    "**Starter Code**\n",
    "\n",
    "    wine_nclust = "
   ]
  },
  {
   "cell_type": "code",
   "execution_count": 41,
   "metadata": {
    "deletable": false,
    "nbgrader": {
     "cell_type": "code",
     "checksum": "8c87fc8b0c975a5afa8c31415d88449c",
     "grade": false,
     "grade_id": "cell-716576a75eefc43c",
     "locked": false,
     "schema_version": 3,
     "solution": true,
     "task": false
    }
   },
   "outputs": [
    {
     "name": "stdout",
     "output_type": "stream",
     "text": [
      "Optimal number of clusters: 3\n"
     ]
    }
   ],
   "source": [
    "# YOUR CODE HERE\n",
    "\n",
    "wine_nclust = k_values[silhouette_scores.index(max(silhouette_scores))]\n",
    "\n",
    "# Print the chosen number of clusters\n",
    "print(\"Optimal number of clusters:\", wine_nclust)\n",
    "\n",
    "#raise NotImplementedError()"
   ]
  },
  {
   "cell_type": "code",
   "execution_count": 42,
   "metadata": {
    "deletable": false,
    "editable": false,
    "nbgrader": {
     "cell_type": "code",
     "checksum": "0c411e55c6712b97b0672973e291eb6a",
     "grade": true,
     "grade_id": "cell-a7cab1aa5af54d11",
     "locked": true,
     "points": 1,
     "schema_version": 3,
     "solution": false,
     "task": false
    }
   },
   "outputs": [],
   "source": [
    "# This test confirms that you have created a numeric variable named wine_nclust\n",
    "\n",
    "assert isinstance(wine_nclust, Number) \n"
   ]
  },
  {
   "cell_type": "markdown",
   "metadata": {
    "deletable": false,
    "editable": false,
    "nbgrader": {
     "cell_type": "markdown",
     "checksum": "90dd0976899215c8040df455049dc154",
     "grade": false,
     "grade_id": "cell-b70729833605d576",
     "locked": true,
     "schema_version": 3,
     "solution": false,
     "task": false
    }
   },
   "source": [
    "---\n",
    "\n",
    "## Part 3: Natural Language Processing [Suggested Time: 20 minutes]\n",
    "\n",
    "---\n",
    "\n",
    "In this third section we will attempt to classify text messages as \"SPAM\" or \"HAM\" using TF-IDF Vectorization."
   ]
  },
  {
   "cell_type": "code",
   "execution_count": 43,
   "metadata": {
    "deletable": false,
    "editable": false,
    "nbgrader": {
     "cell_type": "code",
     "checksum": "6e280fad293a59c134ff075d67a01dd2",
     "grade": false,
     "grade_id": "cell-2bcac79fa0ec69f4",
     "locked": true,
     "schema_version": 3,
     "solution": false,
     "task": false
    }
   },
   "outputs": [
    {
     "name": "stdout",
     "output_type": "stream",
     "text": [
      "     v1                                                 v2  target\n",
      "0   ham  Go until jurong point, crazy.. Available only ...       0\n",
      "1   ham                      Ok lar... Joking wif u oni...       0\n",
      "2  spam  Free entry in 2 a wkly comp to win FA Cup fina...       1\n",
      "3   ham  U dun say so early hor... U c already then say...       0\n",
      "4   ham  Nah I don't think he goes to usf, he lives aro...       0\n"
     ]
    },
    {
     "name": "stderr",
     "output_type": "stream",
     "text": [
      "[nltk_data] Downloading package stopwords to\n",
      "[nltk_data]     C:\\Users\\Michelle\\AppData\\Roaming\\nltk_data...\n",
      "[nltk_data]   Package stopwords is already up-to-date!\n"
     ]
    }
   ],
   "source": [
    "# Run this cell without changes\n",
    "\n",
    "# Import necessary libraries \n",
    "from sklearn.preprocessing import LabelEncoder\n",
    "from sklearn.ensemble import RandomForestClassifier\n",
    "from sklearn.feature_extraction.text import TfidfVectorizer\n",
    "import string\n",
    "import nltk\n",
    "from nltk.corpus import stopwords\n",
    "from nltk import word_tokenize\n",
    "\n",
    "# Generate a list of stopwords \n",
    "nltk.download('stopwords')\n",
    "stops = stopwords.words('english') + list(string.punctuation)\n",
    "\n",
    "# Read in data\n",
    "df_messages = pd.read_csv('./spam.csv', usecols=[0,1])\n",
    "\n",
    "# Convert string labels to 1 or 0 \n",
    "le = LabelEncoder()\n",
    "df_messages['target'] = le.fit_transform(df_messages['v1'])\n",
    "\n",
    "# Examine our data\n",
    "print(df_messages.head())\n",
    "\n",
    "# Separate features and labels \n",
    "X = df_messages['v2']\n",
    "y = df_messages['target']\n",
    "\n",
    "# Create test and train datasets\n",
    "X_train, X_test, y_train, y_test = train_test_split(X, y, test_size = 0.5, random_state=1)"
   ]
  },
  {
   "cell_type": "markdown",
   "metadata": {
    "deletable": false,
    "editable": false,
    "nbgrader": {
     "cell_type": "markdown",
     "checksum": "6f657e49c1c6a4344eb259ce9683fd81",
     "grade": false,
     "grade_id": "cell-fdb9d8950abce1f2",
     "locked": true,
     "schema_version": 3,
     "solution": false,
     "task": false
    }
   },
   "source": [
    "### 3.1) Create CSR matrices `tf_idf_train` and `tf_idf_test` by using a `TfidfVectorizer` with stop word list `stops` to vectorize `X_train` and `X_test`, respectively.\n",
    "\n",
    "Besides using the stop word list, use paramater defaults for your TfidfVectorizer. Refer to the documentation about [TfidfVectorizer](https://scikit-learn.org/stable/modules/generated/sklearn.feature_extraction.text.TfidfVectorizer.html)."
   ]
  },
  {
   "cell_type": "markdown",
   "metadata": {
    "deletable": false,
    "editable": false,
    "nbgrader": {
     "cell_type": "markdown",
     "checksum": "9d30b6fbb3833850efcf28cc023e5c02",
     "grade": false,
     "grade_id": "cell-01f4a0cd5f6b22f8",
     "locked": true,
     "schema_version": 3,
     "solution": false,
     "task": false
    }
   },
   "source": [
    "**Starter Code** \n",
    "\n",
    "    vectorizer = \n",
    "\n",
    "    tf_idf_train = \n",
    "\n",
    "    tf_idf_test = "
   ]
  },
  {
   "cell_type": "code",
   "execution_count": 44,
   "metadata": {
    "deletable": false,
    "nbgrader": {
     "cell_type": "code",
     "checksum": "5ef56aa240fea9fa603264218c6e6e22",
     "grade": false,
     "grade_id": "cell-3264fcb18480a130",
     "locked": false,
     "schema_version": 3,
     "solution": true,
     "task": false
    }
   },
   "outputs": [
    {
     "name": "stdout",
     "output_type": "stream",
     "text": [
      "TF-IDF Train Shape: (2786, 5817)\n",
      "TF-IDF Test Shape: (2786, 5817)\n"
     ]
    }
   ],
   "source": [
    "# YOUR CODE HERE\n",
    "from sklearn.feature_extraction.text import TfidfVectorizer\n",
    "\n",
    "# Instantiate TfidfVectorizer with the stop word list\n",
    "vectorizer = TfidfVectorizer(stop_words=stops)\n",
    "\n",
    "# Fit vectorizer on the training data and transform it\n",
    "tf_idf_train = vectorizer.fit_transform(X_train)\n",
    "\n",
    "# Transform test data\n",
    "tf_idf_test = vectorizer.transform(X_test)\n",
    "\n",
    "# Print the shape of the resulting matrices for verification\n",
    "print(\"TF-IDF Train Shape:\", tf_idf_train.shape)\n",
    "print(\"TF-IDF Test Shape:\", tf_idf_test.shape)\n",
    "\n",
    "#raise NotImplementedError()"
   ]
  },
  {
   "cell_type": "code",
   "execution_count": 45,
   "metadata": {
    "deletable": false,
    "editable": false,
    "nbgrader": {
     "cell_type": "code",
     "checksum": "c614bab2c73debaebeca726d2f9d1586",
     "grade": true,
     "grade_id": "cell-d476e4cbd2338d12",
     "locked": true,
     "points": 1,
     "schema_version": 3,
     "solution": false,
     "task": false
    }
   },
   "outputs": [],
   "source": [
    "# These tests confirm that you have created CSR matrices tf_idf_train and tf_idf_test\n",
    "\n",
    "assert type(tf_idf_train) == scipy.sparse.csr.csr_matrix\n",
    "assert type(tf_idf_test) == scipy.sparse.csr.csr_matrix\n"
   ]
  },
  {
   "cell_type": "markdown",
   "metadata": {
    "deletable": false,
    "editable": false,
    "nbgrader": {
     "cell_type": "markdown",
     "checksum": "e4ed5820649908c8852d2565654e84fb",
     "grade": false,
     "grade_id": "cell-4c0469e57522c867",
     "locked": true,
     "schema_version": 3,
     "solution": false,
     "task": false
    }
   },
   "source": [
    "### 3.2) Create an array `y_preds` containing predictions from an untuned `RandomForestClassifier` that uses `tf_idf_train` and `tf_idf_test`.\n",
    "\n",
    "Use parameter defaults with `random_state=1` for your classifier. Refer to the documentation on [RandomForestClassifier](https://scikit-learn.org/stable/modules/generated/sklearn.ensemble.RandomForestClassifier.html)."
   ]
  },
  {
   "cell_type": "markdown",
   "metadata": {
    "deletable": false,
    "editable": false,
    "nbgrader": {
     "cell_type": "markdown",
     "checksum": "f73f6a2ef552e731a5f0034fa7c0cbeb",
     "grade": false,
     "grade_id": "cell-8b45b5691fce29ee",
     "locked": true,
     "schema_version": 3,
     "solution": false,
     "task": false
    }
   },
   "source": [
    "**Starter Code**\n",
    "\n",
    "    classifier = \n",
    "    \n",
    "    y_preds = "
   ]
  },
  {
   "cell_type": "code",
   "execution_count": 46,
   "metadata": {
    "deletable": false,
    "nbgrader": {
     "cell_type": "code",
     "checksum": "03c7228616c077ddc4dd8e625d04ca1a",
     "grade": false,
     "grade_id": "cell-1c67dcca8a8a6bac",
     "locked": false,
     "schema_version": 3,
     "solution": true,
     "task": false
    }
   },
   "outputs": [
    {
     "name": "stdout",
     "output_type": "stream",
     "text": [
      "Predictions Shape: (2786,)\n"
     ]
    }
   ],
   "source": [
    "# YOUR CODE HERE \n",
    "from sklearn.ensemble import RandomForestClassifier\n",
    "\n",
    "# Instantiate RandomForestClassifier with random_state=1\n",
    "classifier = RandomForestClassifier(random_state=1)\n",
    "\n",
    "# Fit the classifier on the training data\n",
    "classifier.fit(tf_idf_train, y_train)\n",
    "\n",
    "# Make predictions on the test data\n",
    "y_preds = classifier.predict(tf_idf_test)\n",
    "\n",
    "# Print the shape of the predictions array for verification\n",
    "print(\"Predictions Shape:\", y_preds.shape)\n",
    "\n",
    "#raise NotImplementedError()"
   ]
  },
  {
   "cell_type": "code",
   "execution_count": 47,
   "metadata": {
    "deletable": false,
    "editable": false,
    "nbgrader": {
     "cell_type": "code",
     "checksum": "830fc8a998f2471b68b1ebebd0e80a71",
     "grade": true,
     "grade_id": "cell-42276c020025d2fa",
     "locked": true,
     "points": 1,
     "schema_version": 3,
     "solution": false,
     "task": false
    }
   },
   "outputs": [],
   "source": [
    "# This test confirms that you have created an array named y_preds\n",
    "\n",
    "assert type(y_preds) == np.ndarray\n"
   ]
  },
  {
   "cell_type": "markdown",
   "metadata": {
    "deletable": false,
    "editable": false,
    "nbgrader": {
     "cell_type": "markdown",
     "checksum": "8c07e6703da9216406d8da6c3e56be1e",
     "grade": false,
     "grade_id": "cell-18c4bf3c4e9875a2",
     "locked": true,
     "schema_version": 3,
     "solution": false,
     "task": false
    }
   },
   "source": [
    "### 3.3) Short Answer: What would it mean if the word \"genuine\" had the highest TF-IDF value of all words in one document from our test data?"
   ]
  },
  {
   "cell_type": "markdown",
   "metadata": {
    "deletable": false,
    "nbgrader": {
     "cell_type": "markdown",
     "checksum": "9b27cb081ba777b9060a18a35beb69c7",
     "grade": true,
     "grade_id": "cell-6bd56c1b7aa7334b",
     "locked": false,
     "points": 1,
     "schema_version": 3,
     "solution": true,
     "task": false
    }
   },
   "source": [
    "YOUR ANSWER HERE\n",
    "\n",
    "That it is an important yet unique word in our document"
   ]
  },
  {
   "cell_type": "markdown",
   "metadata": {
    "deletable": false,
    "editable": false,
    "nbgrader": {
     "cell_type": "markdown",
     "checksum": "8c467bc1bfbe7e823bca441b9a5d17c7",
     "grade": false,
     "grade_id": "cell-f190415dece92737",
     "locked": true,
     "schema_version": 3,
     "solution": false,
     "task": false
    }
   },
   "source": [
    "---\n",
    "\n",
    "## Part 4: Time Series [Suggested Time: 20 minutes]\n",
    "\n",
    "---\n",
    "In this part you will analyze the price of one stock over time. Each row of the dataset has four prices tracked for each day: \n",
    "\n",
    "* Open: The price when the market opens.\n",
    "* High: The highest price over the course of the day.\n",
    "* Low: The lowest price over the course of the day.\n",
    "* Close: The price when the market closes.\n",
    "\n",
    "<!---Create stock_df and save as .pkl\n",
    "stocks_df = pd.read_csv(\"raw_data/all_stocks_5yr.csv\")\n",
    "stocks_df[\"clean_date\"] = pd.to_datetime(stocks_df[\"date\"], format=\"%Y-%m-%d\")\n",
    "stocks_df.drop([\"date\", \"clean_date\", \"volume\", \"Name\"], axis=1, inplace=True)\n",
    "stocks_df.rename(columns={\"string_date\": \"date\"}, inplace=True)\n",
    "pickle.dump(stocks_df, open(\"write_data/all_stocks_5yr.pkl\", \"wb\"))\n",
    "--->"
   ]
  },
  {
   "cell_type": "code",
   "execution_count": 48,
   "metadata": {
    "deletable": false,
    "editable": false,
    "nbgrader": {
     "cell_type": "code",
     "checksum": "e4f9fb4eebdbf6e5aab156c22d63de89",
     "grade": false,
     "grade_id": "cell-fd9493a8ea890a36",
     "locked": true,
     "schema_version": 3,
     "solution": false,
     "task": false
    }
   },
   "outputs": [
    {
     "data": {
      "text/html": [
       "<div>\n",
       "<style scoped>\n",
       "    .dataframe tbody tr th:only-of-type {\n",
       "        vertical-align: middle;\n",
       "    }\n",
       "\n",
       "    .dataframe tbody tr th {\n",
       "        vertical-align: top;\n",
       "    }\n",
       "\n",
       "    .dataframe thead th {\n",
       "        text-align: right;\n",
       "    }\n",
       "</style>\n",
       "<table border=\"1\" class=\"dataframe\">\n",
       "  <thead>\n",
       "    <tr style=\"text-align: right;\">\n",
       "      <th></th>\n",
       "      <th>open</th>\n",
       "      <th>high</th>\n",
       "      <th>low</th>\n",
       "      <th>close</th>\n",
       "      <th>date</th>\n",
       "    </tr>\n",
       "  </thead>\n",
       "  <tbody>\n",
       "    <tr>\n",
       "      <th>0</th>\n",
       "      <td>15.07</td>\n",
       "      <td>15.12</td>\n",
       "      <td>14.63</td>\n",
       "      <td>14.75</td>\n",
       "      <td>February 08, 2013</td>\n",
       "    </tr>\n",
       "    <tr>\n",
       "      <th>1</th>\n",
       "      <td>14.89</td>\n",
       "      <td>15.01</td>\n",
       "      <td>14.26</td>\n",
       "      <td>14.46</td>\n",
       "      <td>February 11, 2013</td>\n",
       "    </tr>\n",
       "    <tr>\n",
       "      <th>2</th>\n",
       "      <td>14.45</td>\n",
       "      <td>14.51</td>\n",
       "      <td>14.10</td>\n",
       "      <td>14.27</td>\n",
       "      <td>February 12, 2013</td>\n",
       "    </tr>\n",
       "    <tr>\n",
       "      <th>3</th>\n",
       "      <td>14.30</td>\n",
       "      <td>14.94</td>\n",
       "      <td>14.25</td>\n",
       "      <td>14.66</td>\n",
       "      <td>February 13, 2013</td>\n",
       "    </tr>\n",
       "    <tr>\n",
       "      <th>4</th>\n",
       "      <td>14.94</td>\n",
       "      <td>14.96</td>\n",
       "      <td>13.16</td>\n",
       "      <td>13.99</td>\n",
       "      <td>February 14, 2013</td>\n",
       "    </tr>\n",
       "  </tbody>\n",
       "</table>\n",
       "</div>"
      ],
      "text/plain": [
       "    open   high    low  close               date\n",
       "0  15.07  15.12  14.63  14.75  February 08, 2013\n",
       "1  14.89  15.01  14.26  14.46  February 11, 2013\n",
       "2  14.45  14.51  14.10  14.27  February 12, 2013\n",
       "3  14.30  14.94  14.25  14.66  February 13, 2013\n",
       "4  14.94  14.96  13.16  13.99  February 14, 2013"
      ]
     },
     "execution_count": 48,
     "metadata": {},
     "output_type": "execute_result"
    }
   ],
   "source": [
    "# Run this cell without changes\n",
    "\n",
    "stocks_df = pd.read_csv('./stocks_5yr.csv')\n",
    "stocks_df.head()"
   ]
  },
  {
   "cell_type": "markdown",
   "metadata": {
    "deletable": false,
    "editable": false,
    "nbgrader": {
     "cell_type": "markdown",
     "checksum": "09077a4b0611f9c784799122e7d1f6a8",
     "grade": false,
     "grade_id": "cell-f6bc3b15110435d3",
     "locked": true,
     "schema_version": 3,
     "solution": false,
     "task": false
    }
   },
   "source": [
    "### 4.1) For `stocks_df`, create a DatetimeIndex from the `date` column.\n",
    "\n",
    "The resulting DataFrame should not have a `date` column, only `open`, `high`, `low`, and `close` columns. \n",
    "\n",
    "Hint: First convert the `date` column to Datetime datatype, then set it as the index."
   ]
  },
  {
   "cell_type": "markdown",
   "metadata": {
    "deletable": false,
    "editable": false,
    "nbgrader": {
     "cell_type": "markdown",
     "checksum": "5ccab41eb8aa8624bd22d6474cfca821",
     "grade": false,
     "grade_id": "cell-15921f7c4cf5e767",
     "locked": true,
     "schema_version": 3,
     "solution": false,
     "task": false
    }
   },
   "source": [
    "**Starter Code**\n",
    "\n",
    "    stocks_df['date'] ="
   ]
  },
  {
   "cell_type": "code",
   "execution_count": 49,
   "metadata": {
    "deletable": false,
    "nbgrader": {
     "cell_type": "code",
     "checksum": "7403534c9359f13a3352ad060df4b223",
     "grade": false,
     "grade_id": "cell-b3a2ebc3411888dd",
     "locked": false,
     "schema_version": 3,
     "solution": true,
     "task": false
    }
   },
   "outputs": [
    {
     "name": "stdout",
     "output_type": "stream",
     "text": [
      "             open   high    low  close\n",
      "date                                  \n",
      "2013-02-08  15.07  15.12  14.63  14.75\n",
      "2013-02-11  14.89  15.01  14.26  14.46\n",
      "2013-02-12  14.45  14.51  14.10  14.27\n",
      "2013-02-13  14.30  14.94  14.25  14.66\n",
      "2013-02-14  14.94  14.96  13.16  13.99\n"
     ]
    }
   ],
   "source": [
    "# YOUR CODE HERE\n",
    "# Convert the date column to datetime format\n",
    "stocks_df['date'] = pd.to_datetime(stocks_df['date'])\n",
    "\n",
    "# Set as the index\n",
    "stocks_df.set_index('date', inplace=True)\n",
    "\n",
    "print(stocks_df.head())\n",
    "# raise NotImplementedError()"
   ]
  },
  {
   "cell_type": "code",
   "execution_count": 50,
   "metadata": {
    "deletable": false,
    "editable": false,
    "nbgrader": {
     "cell_type": "code",
     "checksum": "d160b9d6ec075cbe63907d6c5c59b9b1",
     "grade": true,
     "grade_id": "cell-8973f8f07577b152",
     "locked": true,
     "points": 1,
     "schema_version": 3,
     "solution": false,
     "task": false
    }
   },
   "outputs": [],
   "source": [
    "# This test confirms that stocks_df has a DatetimeIndex\n",
    "\n",
    "assert type(stocks_df.index) == pd.core.indexes.datetimes.DatetimeIndex\n",
    "\n",
    "# This test confirms that stocks_df only has `open`, `high`, `low`, and `close` columns.\n",
    "\n",
    "assert list(stocks_df.columns) == ['open', 'high', 'low', 'close']\n"
   ]
  },
  {
   "cell_type": "markdown",
   "metadata": {
    "deletable": false,
    "editable": false,
    "nbgrader": {
     "cell_type": "markdown",
     "checksum": "8d133cb1e9eeaae38b1087fdda6a93f9",
     "grade": false,
     "grade_id": "cell-56237f4da08165ef",
     "locked": true,
     "schema_version": 3,
     "solution": false,
     "task": false
    }
   },
   "source": [
    "### 4.2) Create a DataFrame `stocks_monthly_df` that resamples `stocks_df` each month with the 'MS' DateOffset to calculate the mean of the four features over each month.\n",
    "\n",
    "Refer to the [resample documentation](https://pandas.pydata.org/pandas-docs/stable/reference/api/pandas.DataFrame.resample.html)."
   ]
  },
  {
   "cell_type": "markdown",
   "metadata": {
    "deletable": false,
    "editable": false,
    "nbgrader": {
     "cell_type": "markdown",
     "checksum": "90d55db9a74bd1f8761086dfdfe01da8",
     "grade": false,
     "grade_id": "cell-24dbe2526545b9bb",
     "locked": true,
     "schema_version": 3,
     "solution": false,
     "task": false
    }
   },
   "source": [
    "**Starter Code**\n",
    "    \n",
    "    stocks_monthly_df = "
   ]
  },
  {
   "cell_type": "code",
   "execution_count": 51,
   "metadata": {
    "deletable": false,
    "nbgrader": {
     "cell_type": "code",
     "checksum": "ccaf625e471e3641d2a6ebccbc2a9ffb",
     "grade": false,
     "grade_id": "cell-1e4c7106f0bc1b40",
     "locked": false,
     "schema_version": 3,
     "solution": true,
     "task": false
    }
   },
   "outputs": [
    {
     "name": "stdout",
     "output_type": "stream",
     "text": [
      "                 open       high        low      close\n",
      "date                                                  \n",
      "2013-02-01  57.921427  58.502145  57.359988  57.921380\n",
      "2013-03-01  59.654450  60.186986  59.186075  59.796277\n",
      "2013-04-01  60.986212  61.626482  60.344616  61.046571\n",
      "2013-05-01  64.240266  64.984556  63.674172  64.333399\n",
      "2013-06-01  63.397323  64.060856  62.646582  63.309945\n"
     ]
    }
   ],
   "source": [
    "# YOUR CODE HERE\n",
    "stocks_monthly_df = stocks_df.resample('MS').mean()\n",
    "\n",
    "print(stocks_monthly_df.head())\n",
    "#raise NotImplementedError()"
   ]
  },
  {
   "cell_type": "code",
   "execution_count": 52,
   "metadata": {
    "deletable": false,
    "editable": false,
    "nbgrader": {
     "cell_type": "code",
     "checksum": "776f80c7d9c3ab21fc4ca18ed7ca4cf0",
     "grade": true,
     "grade_id": "cell-7b5d8044aa480c6d",
     "locked": true,
     "points": 1,
     "schema_version": 3,
     "solution": false,
     "task": false
    }
   },
   "outputs": [],
   "source": [
    "# This test confirms that you have created a DataFrame named stocks_monthly_df\n",
    "\n",
    "assert type(stocks_monthly_df) == pd.DataFrame\n",
    "\n",
    "# This test confirms that stocks_monthy_df has the correct dimensions\n",
    "\n",
    "assert stocks_monthly_df.shape == (61,4)\n"
   ]
  },
  {
   "cell_type": "markdown",
   "metadata": {
    "deletable": false,
    "editable": false,
    "nbgrader": {
     "cell_type": "markdown",
     "checksum": "736f2b6a953f7901bc91bfafcef1ba62",
     "grade": false,
     "grade_id": "cell-a33f13a6897659d2",
     "locked": true,
     "schema_version": 3,
     "solution": false,
     "task": false
    }
   },
   "source": [
    "### 4.3) Create a matplotlib figure `rolling_open_figure` containing a line graph that visualizes the rolling quarterly mean of open prices from `stocks_monthly_df`.\n",
    "\n",
    "You will use this graph to determine whether the average monthly open stock price is stationary or not.\n",
    "\n",
    "Hint: use a window size of 3 to represent one quarter of a year"
   ]
  },
  {
   "cell_type": "markdown",
   "metadata": {
    "deletable": false,
    "editable": false,
    "nbgrader": {
     "cell_type": "markdown",
     "checksum": "b444b34b1462c55a1d409c3cad12448c",
     "grade": false,
     "grade_id": "cell-60d8542e250c354f",
     "locked": true,
     "schema_version": 3,
     "solution": false,
     "task": false
    }
   },
   "source": [
    "**Starter Code**\n",
    "\n",
    "    rolling_open_figure, ax = plt.subplots(figsize=(10, 6))"
   ]
  },
  {
   "cell_type": "code",
   "execution_count": 53,
   "metadata": {
    "deletable": false,
    "nbgrader": {
     "cell_type": "code",
     "checksum": "515795ad62e2e4b757dbbb7c55724158",
     "grade": false,
     "grade_id": "cell-f344ba7aee18bd8d",
     "locked": false,
     "schema_version": 3,
     "solution": true,
     "task": false
    }
   },
   "outputs": [
    {
     "data": {
      "image/png": "[encoded data removed]",
      "text/plain": [
       "<Figure size 720x432 with 1 Axes>"
      ]
     },
     "metadata": {
      "needs_background": "light"
     },
     "output_type": "display_data"
    }
   ],
   "source": [
    "# YOUR CODE HERE\n",
    "rolling_open_figure, ax = plt.subplots(figsize=(10, 6))\n",
    "ax.plot(stocks_monthly_df['open'].rolling(window=3).mean())\n",
    "ax.set_title('Rolling Quarterly Mean of Open Prices')\n",
    "ax.set_xlabel('Date')\n",
    "ax.set_ylabel('Open Price')\n",
    "plt.show()\n",
    "# raise NotImplementedError()"
   ]
  },
  {
   "cell_type": "code",
   "execution_count": 54,
   "metadata": {
    "deletable": false,
    "editable": false,
    "nbgrader": {
     "cell_type": "code",
     "checksum": "5fdf730e60c378e1dde78ed09d60d231",
     "grade": true,
     "grade_id": "cell-a8ac339e855eb95d",
     "locked": true,
     "points": 1,
     "schema_version": 3,
     "solution": false,
     "task": false
    }
   },
   "outputs": [],
   "source": [
    "# This test confirms that you have created a figure named rolling_open_figure\n",
    "\n",
    "assert type(rolling_open_figure) == plt.Figure\n",
    "\n",
    "# This test confirms that the figure contains exactly one axis\n",
    "\n",
    "assert len(rolling_open_figure.axes) == 1\n"
   ]
  },
  {
   "cell_type": "markdown",
   "metadata": {
    "deletable": false,
    "editable": false,
    "nbgrader": {
     "cell_type": "markdown",
     "checksum": "384cd6413dc64684c41dc9d955519cf7",
     "grade": false,
     "grade_id": "cell-0aef1dacb1d8361f",
     "locked": true,
     "schema_version": 3,
     "solution": false,
     "task": false
    }
   },
   "source": [
    "### 4.4) Short Answer: Based on your graph from Question 4.3, does the monthly open stock price look stationary? Explain your answer."
   ]
  },
  {
   "cell_type": "markdown",
   "metadata": {
    "deletable": false,
    "nbgrader": {
     "cell_type": "markdown",
     "checksum": "83a4a12a502e154dcfb4bcf8eda72baf",
     "grade": true,
     "grade_id": "cell-9cb40e7f0b2bcf79",
     "locked": false,
     "points": 1,
     "schema_version": 3,
     "solution": true,
     "task": false
    }
   },
   "source": [
    "YOUR ANSWER HERE\n",
    "\n",
    "The average opening stock price has shown a consistent upward trend over time. Additionally, the variability in these average prices has increased, indicating that the data is not stationary."
   ]
  }
 ],
 "metadata": {
  "kernelspec": {
   "display_name": "Python (python3)",
   "language": "python",
   "name": "python3"
  },
  "language_info": {
   "codemirror_mode": {
    "name": "ipython",
    "version": 3
   },
   "file_extension": ".py",
   "mimetype": "text/x-python",
   "name": "python",
   "nbconvert_exporter": "python",
   "pygments_lexer": "ipython3",
   "version": "3.8.5"
  }
 },
 "nbformat": 4,
 "nbformat_minor": 4
}
